{
 "cells": [
  {
   "cell_type": "markdown",
   "id": "ab91029b",
   "metadata": {},
   "source": [
    "#### Audio Classification using ML\n",
    "#### dataset taken from this link: https://urbansounddataset.weebly.com/download-urbansound8k.html"
   ]
  },
  {
   "cell_type": "code",
   "execution_count": 1,
   "id": "05aaa6d3",
   "metadata": {},
   "outputs": [
    {
     "name": "stdout",
     "output_type": "stream",
     "text": [
      "Collecting librosa\n",
      "  Downloading librosa-0.9.1-py3-none-any.whl (213 kB)\n",
      "\u001b[K     |████████████████████████████████| 213 kB 3.8 MB/s eta 0:00:01\n",
      "\u001b[?25hRequirement already satisfied: joblib>=0.14 in /Users/bikashpokharel/opt/anaconda3/lib/python3.9/site-packages (from librosa) (1.1.0)\n",
      "Collecting pooch>=1.0\n",
      "  Downloading pooch-1.6.0-py3-none-any.whl (56 kB)\n",
      "\u001b[K     |████████████████████████████████| 56 kB 17.7 MB/s eta 0:00:01\n",
      "\u001b[?25hRequirement already satisfied: numpy>=1.17.0 in /Users/bikashpokharel/opt/anaconda3/lib/python3.9/site-packages (from librosa) (1.20.3)\n",
      "Collecting soundfile>=0.10.2\n",
      "  Downloading SoundFile-0.10.3.post1-py2.py3.cp26.cp27.cp32.cp33.cp34.cp35.cp36.pp27.pp32.pp33-none-macosx_10_5_x86_64.macosx_10_6_intel.macosx_10_9_intel.macosx_10_9_x86_64.whl (613 kB)\n",
      "\u001b[K     |████████████████████████████████| 613 kB 7.7 MB/s eta 0:00:01\n",
      "\u001b[?25hRequirement already satisfied: packaging>=20.0 in /Users/bikashpokharel/opt/anaconda3/lib/python3.9/site-packages (from librosa) (21.0)\n",
      "Requirement already satisfied: decorator>=4.0.10 in /Users/bikashpokharel/opt/anaconda3/lib/python3.9/site-packages (from librosa) (5.1.0)\n",
      "Requirement already satisfied: scikit-learn>=0.19.1 in /Users/bikashpokharel/opt/anaconda3/lib/python3.9/site-packages (from librosa) (0.24.2)\n",
      "Requirement already satisfied: scipy>=1.2.0 in /Users/bikashpokharel/opt/anaconda3/lib/python3.9/site-packages (from librosa) (1.7.1)\n",
      "Collecting resampy>=0.2.2\n",
      "  Downloading resampy-0.2.2.tar.gz (323 kB)\n",
      "\u001b[K     |████████████████████████████████| 323 kB 56.5 MB/s eta 0:00:01\n",
      "\u001b[?25hCollecting audioread>=2.1.5\n",
      "  Downloading audioread-2.1.9.tar.gz (377 kB)\n",
      "\u001b[K     |████████████████████████████████| 377 kB 33.0 MB/s eta 0:00:01\n",
      "\u001b[?25hRequirement already satisfied: numba>=0.45.1 in /Users/bikashpokharel/opt/anaconda3/lib/python3.9/site-packages (from librosa) (0.54.1)\n",
      "Requirement already satisfied: setuptools in /Users/bikashpokharel/opt/anaconda3/lib/python3.9/site-packages (from numba>=0.45.1->librosa) (58.0.4)\n",
      "Requirement already satisfied: llvmlite<0.38,>=0.37.0rc1 in /Users/bikashpokharel/opt/anaconda3/lib/python3.9/site-packages (from numba>=0.45.1->librosa) (0.37.0)\n",
      "Requirement already satisfied: pyparsing>=2.0.2 in /Users/bikashpokharel/opt/anaconda3/lib/python3.9/site-packages (from packaging>=20.0->librosa) (3.0.4)\n",
      "Requirement already satisfied: appdirs>=1.3.0 in /Users/bikashpokharel/opt/anaconda3/lib/python3.9/site-packages (from pooch>=1.0->librosa) (1.4.4)\n",
      "Requirement already satisfied: requests>=2.19.0 in /Users/bikashpokharel/opt/anaconda3/lib/python3.9/site-packages (from pooch>=1.0->librosa) (2.26.0)\n",
      "Requirement already satisfied: certifi>=2017.4.17 in /Users/bikashpokharel/opt/anaconda3/lib/python3.9/site-packages (from requests>=2.19.0->pooch>=1.0->librosa) (2021.10.8)\n",
      "Requirement already satisfied: urllib3<1.27,>=1.21.1 in /Users/bikashpokharel/opt/anaconda3/lib/python3.9/site-packages (from requests>=2.19.0->pooch>=1.0->librosa) (1.26.7)\n",
      "Requirement already satisfied: idna<4,>=2.5 in /Users/bikashpokharel/opt/anaconda3/lib/python3.9/site-packages (from requests>=2.19.0->pooch>=1.0->librosa) (3.2)\n",
      "Requirement already satisfied: charset-normalizer~=2.0.0 in /Users/bikashpokharel/opt/anaconda3/lib/python3.9/site-packages (from requests>=2.19.0->pooch>=1.0->librosa) (2.0.4)\n",
      "Requirement already satisfied: six>=1.3 in /Users/bikashpokharel/opt/anaconda3/lib/python3.9/site-packages (from resampy>=0.2.2->librosa) (1.16.0)\n",
      "Requirement already satisfied: threadpoolctl>=2.0.0 in /Users/bikashpokharel/opt/anaconda3/lib/python3.9/site-packages (from scikit-learn>=0.19.1->librosa) (2.2.0)\n",
      "Requirement already satisfied: cffi>=1.0 in /Users/bikashpokharel/opt/anaconda3/lib/python3.9/site-packages (from soundfile>=0.10.2->librosa) (1.14.6)\n",
      "Requirement already satisfied: pycparser in /Users/bikashpokharel/opt/anaconda3/lib/python3.9/site-packages (from cffi>=1.0->soundfile>=0.10.2->librosa) (2.20)\n",
      "Building wheels for collected packages: audioread, resampy\n",
      "  Building wheel for audioread (setup.py) ... \u001b[?25ldone\n",
      "\u001b[?25h  Created wheel for audioread: filename=audioread-2.1.9-py3-none-any.whl size=23154 sha256=7e91f9b426fcbf322efd2f50335070bba09130befde313775661558e13c66343\n",
      "  Stored in directory: /Users/bikashpokharel/Library/Caches/pip/wheels/a2/a3/bd/ec1568ce7515115a11ab686d509ad302124c782af065de47ee\n",
      "  Building wheel for resampy (setup.py) ... \u001b[?25ldone\n",
      "\u001b[?25h  Created wheel for resampy: filename=resampy-0.2.2-py3-none-any.whl size=320731 sha256=c0d6c2672ca11a1837e1746a5ebc237d445c245f3438bf09111b6727a5f91bde\n",
      "  Stored in directory: /Users/bikashpokharel/Library/Caches/pip/wheels/86/2c/7d/46a32a246b0e5939cea2c5ec1492164073e0c5d16d666ae2cd\n",
      "Successfully built audioread resampy\n",
      "Installing collected packages: soundfile, resampy, pooch, audioread, librosa\n",
      "Successfully installed audioread-2.1.9 librosa-0.9.1 pooch-1.6.0 resampy-0.2.2 soundfile-0.10.3.post1\n"
     ]
    }
   ],
   "source": [
    "!pip install librosa"
   ]
  },
  {
   "cell_type": "code",
   "execution_count": null,
   "id": "13b87a54",
   "metadata": {},
   "outputs": [],
   "source": [
    "import matplotlib.pyplot as plt\n",
    "%matplotlib inline"
   ]
  }
 ],
 "metadata": {
  "kernelspec": {
   "display_name": "Python 3 (ipykernel)",
   "language": "python",
   "name": "python3"
  },
  "language_info": {
   "codemirror_mode": {
    "name": "ipython",
    "version": 3
   },
   "file_extension": ".py",
   "mimetype": "text/x-python",
   "name": "python",
   "nbconvert_exporter": "python",
   "pygments_lexer": "ipython3",
   "version": "3.9.7"
  }
 },
 "nbformat": 4,
 "nbformat_minor": 5
}
